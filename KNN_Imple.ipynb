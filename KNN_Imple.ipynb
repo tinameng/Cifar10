{
 "cells": [
  {
   "cell_type": "code",
   "execution_count": 71,
   "metadata": {},
   "outputs": [],
   "source": [
    "import numpy as np\n",
    "import matplotlib.pyplot as plt\n",
    "from sklearn import neighbors\n",
    "from sklearn.neural_network import MLPClassifier\n",
    "from mpl_toolkits.mplot3d import Axes3D\n",
    "from sklearn import decomposition\n",
    "import scipy\n",
    "%matplotlib inline\n",
    "\n",
    "class KNN:\n",
    "    def __init__(self,k):\n",
    "        self.k = k\n",
    "    def fit(self,x,y):\n",
    "        self.x = np.array(x)\n",
    "        self.y = np.array(y)\n",
    "    def predict(self,img):\n",
    "        distance = np.zeros(self.x.shape[0])\n",
    "        for i in range(len(distance)):\n",
    "            distance[i] = self.calculate(img,self.x[i])\n",
    "        sort_dis = np.argsort(distance)\n",
    "        print(self.y.shape)\n",
    "        print(sort_dis.shape)\n",
    "        print(distance[sort_dis])\n",
    "        print(sort_dis)\n",
    "        lab = scipy.stats.mode(self.y[sort_dis][0:k])\n",
    "        return lab\n",
    "    def calculate(self,img,data):\n",
    "        dist = np.linalg.norm(img-data)\n",
    "        return dist"
   ]
  },
  {
   "cell_type": "code",
   "execution_count": 72,
   "metadata": {
    "collapsed": true
   },
   "outputs": [],
   "source": [
    "def unpickle(file):\n",
    "    import pickle\n",
    "    with open(file, 'rb') as fo:\n",
    "        dict = pickle.load(fo, encoding='bytes')\n",
    "    return dict"
   ]
  },
  {
   "cell_type": "code",
   "execution_count": 73,
   "metadata": {
    "collapsed": true
   },
   "outputs": [],
   "source": [
    "batch_1 = unpickle(\"./cifar-10-batches-py/data_batch_1\")\n",
    "batch_2 = unpickle(\"./cifar-10-batches-py/data_batch_2\")"
   ]
  },
  {
   "cell_type": "code",
   "execution_count": 74,
   "metadata": {
    "collapsed": true
   },
   "outputs": [],
   "source": [
    "def display_img(db, n):\n",
    "    img = db[b\"data\"][n]\n",
    "    img = np.swapaxes(img.reshape((32,32,3), order=\"F\"),0,1)\n",
    "    plt.imshow(img)\n",
    "    print(db[b\"labels\"][n])"
   ]
  },
  {
   "cell_type": "code",
   "execution_count": 75,
   "metadata": {},
   "outputs": [],
   "source": [
    "k = 1\n",
    "x = batch_1[b\"data\"]\n",
    "y = batch_1[b\"labels\"]\n",
    "clf = KNN(k)\n",
    "clf.fit(x,y)"
   ]
  },
  {
   "cell_type": "code",
   "execution_count": 76,
   "metadata": {},
   "outputs": [
    {
     "name": "stdout",
     "output_type": "stream",
     "text": [
      "(10000,)\n",
      "(10000,)\n",
      "[5939.82331387 5979.31041174 5993.57522686 ... 9879.68633105 9942.37013996\n",
      " 9995.92106812]\n",
      "[4869 1345 8528 ... 8437 4540 9499]\n",
      "4\n",
      "prediction ModeResult(mode=array([0]), count=array([1]))\n"
     ]
    },
    {
     "data": {
      "image/png": "[encoded data removed]",
      "text/plain": [
       "<Figure size 432x288 with 1 Axes>"
      ]
     },
     "metadata": {
      "needs_background": "light"
     },
     "output_type": "display_data"
    }
   ],
   "source": [
    "n = 300\n",
    "img = batch_2[b\"data\"][n]\n",
    "prediction = clf.predict(img)\n",
    "display_img(batch_2,n)\n",
    "print(\"prediction {}\".format(prediction))"
   ]
  },
  {
   "cell_type": "code",
   "execution_count": 69,
   "metadata": {
    "collapsed": true
   },
   "outputs": [],
   "source": [
    "img_1 = np.array(batch_2[b\"data\"][300])\n",
    "img_2 = np.array(batch_1[b\"data\"][4056])\n",
    "img_3 = np.array(batch_1[b\"data\"][4868])"
   ]
  },
  {
   "cell_type": "code",
   "execution_count": 70,
   "metadata": {},
   "outputs": [
    {
     "name": "stdout",
     "output_type": "stream",
     "text": [
      "222.03603311174518\n",
      "8803.794749992756\n",
      "[ 67 116]\n",
      "[193 192]\n"
     ]
    }
   ],
   "source": [
    "print(np.linalg.norm(img_1[:2] - img_2[:2]))\n",
    "print(np.linalg.norm(img_3 - img_1))\n",
    "print(img_1[:2])\n",
    "print(img_2[:2])"
   ]
  },
  {
   "cell_type": "code",
   "execution_count": 55,
   "metadata": {},
   "outputs": [
    {
     "data": {
      "text/plain": [
       "'1.16.1'"
      ]
     },
     "execution_count": 55,
     "metadata": {},
     "output_type": "execute_result"
    }
   ],
   "source": [
    "np.__version__"
   ]
  },
  {
   "cell_type": "code",
   "execution_count": null,
   "metadata": {
    "collapsed": true
   },
   "outputs": [],
   "source": []
  }
 ],
 "metadata": {
  "kernelspec": {
   "display_name": "Python [conda env:knn-cifar10]",
   "language": "python",
   "name": "conda-env-knn-cifar10-py"
  },
  "language_info": {
   "codemirror_mode": {
    "name": "ipython",
    "version": 3
   },
   "file_extension": ".py",
   "mimetype": "text/x-python",
   "name": "python",
   "nbconvert_exporter": "python",
   "pygments_lexer": "ipython3",
   "version": "3.7.2"
  }
 },
 "nbformat": 4,
 "nbformat_minor": 2
}
